{
 "cells": [
  {
   "attachments": {},
   "cell_type": "markdown",
   "metadata": {},
   "source": [
    "# Validation\n",
    "\n",
    "This notebook assesses classification accuracy by comparing photo-interpreted validation \n",
    "plots with classified salvage maps."
   ]
  },
  {
   "cell_type": "code",
   "execution_count": null,
   "metadata": {},
   "outputs": [],
   "source": [
    "import ee\n",
    "import geopandas as gpd\n",
    "import matplotlib.pyplot as plt\n",
    "import pandas as pd\n",
    "from sklearn.metrics import (\n",
    "    ConfusionMatrixDisplay,\n",
    "    accuracy_score,\n",
    "    classification_report,\n",
    "    confusion_matrix,\n",
    "    precision_score,\n",
    "    recall_score,\n",
    ")\n",
    "\n",
    "from pfh.scripts import config\n",
    "\n",
    "ee.Initialize()"
   ]
  },
  {
   "attachments": {},
   "cell_type": "markdown",
   "metadata": {},
   "source": [
    "## Load Data"
   ]
  },
  {
   "cell_type": "code",
   "execution_count": null,
   "metadata": {},
   "outputs": [],
   "source": [
    "plots = ee.FeatureCollection(config.INTERPRETATIONS)"
   ]
  },
  {
   "attachments": {},
   "cell_type": "markdown",
   "metadata": {},
   "source": [
    "## Extract Salvage\n",
    "\n",
    "Extract predicted salvage and burn severity data at each plot from Earth Engine."
   ]
  },
  {
   "cell_type": "code",
   "execution_count": null,
   "metadata": {},
   "outputs": [],
   "source": [
    "harvest = (\n",
    "    ee.ImageCollection(config.HARVEST_COLLECTION)\n",
    "    .mosaic()\n",
    "    .gt(0)\n",
    "    .unmask(0)\n",
    "    .rename(\"pred_salvage\")\n",
    ")\n",
    "severity = ee.ImageCollection(config.SEVERITY_COLLECTION).mosaic()\n",
    "\n",
    "plot_fc = ee.Image.cat([harvest, severity]).reduceRegions(\n",
    "    collection=plots, reducer=ee.Reducer.first(), scale=30\n",
    ")\n",
    "\n",
    "plot_data = gpd.GeoDataFrame.from_features(plot_fc.getInfo()).dropna()\n",
    "\n",
    "# Exclude plots in unmanaged areas from analysis\n",
    "plot_data = plot_data[plot_data.wilderness.eq(0) & plot_data.nps.eq(0)].copy()\n",
    "\n",
    "# Exclude low confidence interpretations\n",
    "plot_data = plot_data[plot_data.notes.ne(\"low confidence\")].copy()\n",
    "\n",
    "plot_data[\"severity\"] = plot_data.severity.astype(int).map(config.SEVERITY_CLASSES)"
   ]
  },
  {
   "attachments": {},
   "cell_type": "markdown",
   "metadata": {},
   "source": [
    "## Assess Accuracy"
   ]
  },
  {
   "attachments": {},
   "cell_type": "markdown",
   "metadata": {},
   "source": [
    "Overall accuracy."
   ]
  },
  {
   "cell_type": "code",
   "execution_count": null,
   "metadata": {},
   "outputs": [],
   "source": [
    "y_true = plot_data[\"salvage\"]\n",
    "y_pred = plot_data[\"pred_salvage\"]\n",
    "\n",
    "print(classification_report(y_true, y_pred))\n",
    "\n",
    "cm = confusion_matrix(y_true, y_pred)\n",
    "ConfusionMatrixDisplay(cm, display_labels=[\"Not Salvaged\", \"Salvaged\"]).plot()"
   ]
  },
  {
   "attachments": {},
   "cell_type": "markdown",
   "metadata": {},
   "source": [
    "Accuracy by severity class."
   ]
  },
  {
   "cell_type": "code",
   "execution_count": null,
   "metadata": {},
   "outputs": [],
   "source": [
    "severity_classes = config.SEVERITY_CLASSES.values()\n",
    "fig, axes = plt.subplots(\n",
    "    nrows=1, ncols=len(severity_classes), figsize=(20, 5), sharey=\"row\"\n",
    ")\n",
    "\n",
    "severity_results = []\n",
    "\n",
    "for i, severity in enumerate(severity_classes):\n",
    "    severity_plots = plot_data[plot_data.severity.eq(severity)]\n",
    "    y_true = severity_plots[\"salvage\"]\n",
    "    y_pred = severity_plots[\"pred_salvage\"]\n",
    "    cm = confusion_matrix(y_true, y_pred)\n",
    "\n",
    "    recall = recall_score(y_true, y_pred)\n",
    "    precision = precision_score(y_true, y_pred)\n",
    "    overall_accuracy = accuracy_score(y_true, y_pred)\n",
    "    severity_results.append({\n",
    "        \"severity\": severity,\n",
    "        \"precision\": precision,\n",
    "        \"recall\": recall,\n",
    "        \"overall_accuracy\": overall_accuracy,\n",
    "        \"n\": len(severity_plots),\n",
    "    })\n",
    "\n",
    "    disp = ConfusionMatrixDisplay(cm, display_labels=[\"Not Salvaged\", \"Salvaged\"])\n",
    "    disp.plot(ax=axes[i])\n",
    "    disp.ax_.set_title(severity)\n",
    "    disp.im_.colorbar.remove()\n",
    "    disp.ax_.set_xlabel(\"\")\n",
    "    if i > 0:\n",
    "        disp.ax_.set_ylabel(\"\")\n",
    "\n",
    "\n",
    "fig.text(0.4, 0.1, \"Predicted label\", ha=\"left\")\n",
    "plt.subplots_adjust(wspace=0.40, hspace=0.1)\n",
    "\n",
    "\n",
    "severity_results = pd.DataFrame(severity_results).set_index(\"severity\")\n",
    "y_true = plot_data[\"salvage\"]\n",
    "y_pred = plot_data[\"pred_salvage\"]\n",
    "\n",
    "overall = [\n",
    "    precision_score(y_true, y_pred),\n",
    "    recall_score(y_true, y_pred),\n",
    "    accuracy_score(y_true, y_pred),\n",
    "    len(plot_data),\n",
    "]\n",
    "# Add an \"Overall\" row to the severity results\n",
    "severity_results.loc[\"Overall\"] = overall\n",
    "severity_results"
   ]
  }
 ],
 "metadata": {
  "kernelspec": {
   "display_name": "pfh",
   "language": "python",
   "name": "python3"
  },
  "language_info": {
   "codemirror_mode": {
    "name": "ipython",
    "version": 3
   },
   "file_extension": ".py",
   "mimetype": "text/x-python",
   "name": "python",
   "nbconvert_exporter": "python",
   "pygments_lexer": "ipython3",
   "version": "3.10.12"
  },
  "orig_nbformat": 4
 },
 "nbformat": 4,
 "nbformat_minor": 2
}
