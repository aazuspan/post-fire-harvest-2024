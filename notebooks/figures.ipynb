{
 "cells": [
  {
   "cell_type": "markdown",
   "metadata": {},
   "source": [
    "# Figures\n",
    "\n",
    "This notebook generates figures for the paper. Run this notebook last."
   ]
  },
  {
   "cell_type": "code",
   "execution_count": null,
   "metadata": {},
   "outputs": [],
   "source": [
    "import geopandas as gpd\n",
    "import pandas as pd\n",
    "import plotly.express as px"
   ]
  },
  {
   "cell_type": "markdown",
   "metadata": {},
   "source": [
    "## Data Prep"
   ]
  },
  {
   "cell_type": "markdown",
   "metadata": {},
   "source": [
    "Load fire polygon data."
   ]
  },
  {
   "cell_type": "code",
   "execution_count": null,
   "metadata": {},
   "outputs": [],
   "source": [
    "study_fires = gpd.read_file(\"../data/study_fires.geojson\").to_crs(\"EPSG:5070\")\n",
    "candidate_fires = gpd.read_file(\"../data/candidate_fires.geojson\").to_crs(\"EPSG:5070\")\n",
    "\n",
    "study_fires[\"ha\"] = study_fires.geometry.area / 10_000\n",
    "study_fires[\"forested_ha\"] = study_fires[\"ha\"] * (study_fires[\"percent_forest\"] / 100)\n",
    "\n",
    "candidate_fires[\"ha\"] = candidate_fires.geometry.area / 10_000\n",
    "candidate_fires[\"forested_ha\"] = candidate_fires[\"ha\"] * (\n",
    "    candidate_fires[\"percent_forest\"] / 100\n",
    ")\n",
    "candidate_fires[\"year\"] = pd.to_datetime(candidate_fires[\"Ig_Date\"], unit=\"ms\").dt.year"
   ]
  },
  {
   "cell_type": "markdown",
   "metadata": {},
   "source": [
    "Load and process the trends data from the `trends` notebook."
   ]
  },
  {
   "cell_type": "code",
   "execution_count": null,
   "metadata": {},
   "outputs": [],
   "source": [
    "owner_trends = pd.read_csv(\"../data/results/owner_trends.csv\")\n",
    "owner_group_trends = pd.read_csv(\"../data/results/owner_group_trends.csv\")\n",
    "\n",
    "# Remove the severity grouping\n",
    "owner_trends = (\n",
    "    owner_trends.drop(columns=[\"severity\"])\n",
    "    .groupby([\"year\", \"owner\"])\n",
    "    .agg(\"sum\")\n",
    "    .reset_index()\n",
    "    .assign(\n",
    "        cumulative_analysis_area=lambda x: x.groupby(\"owner\")[\"analysis_area\"].cumsum()\n",
    "    )\n",
    "    .assign(\n",
    "        cumulative_harvest_area=lambda x: x.groupby(\"owner\")[\"harvest_area\"].cumsum()\n",
    "    )\n",
    ")\n",
    "\n",
    "owner_group_trends = (\n",
    "    owner_group_trends.drop(columns=[\"severity\"])\n",
    "    .groupby([\"year\", \"owner\"])\n",
    "    .agg(\"sum\")\n",
    "    .reset_index()\n",
    "    .assign(\n",
    "        cumulative_analysis_area=lambda x: x.groupby(\"owner\")[\"analysis_area\"].cumsum()\n",
    "    )\n",
    "    .assign(\n",
    "        cumulative_harvest_area=lambda x: x.groupby(\"owner\")[\"harvest_area\"].cumsum()\n",
    "    )\n",
    ")"
   ]
  },
  {
   "cell_type": "markdown",
   "metadata": {},
   "source": [
    "Convert the candidate fires to annual trends."
   ]
  },
  {
   "cell_type": "code",
   "execution_count": null,
   "metadata": {},
   "outputs": [],
   "source": [
    "candidate_fire_trends = (\n",
    "    candidate_fires.groupby(\"year\")\n",
    "    .agg({\"forested_ha\": \"sum\", \"ha\": \"sum\"})\n",
    "    .reset_index()\n",
    "    .assign(cumulative_forested_ha=lambda x: x[\"forested_ha\"].cumsum())\n",
    ")"
   ]
  },
  {
   "cell_type": "markdown",
   "metadata": {},
   "source": [
    "## Summary Data\n",
    "\n",
    "Print some summary stats for the paper."
   ]
  },
  {
   "cell_type": "code",
   "execution_count": null,
   "metadata": {},
   "outputs": [],
   "source": [
    "print(f\"Study fires: {study_fires.shape[0]}\")\n",
    "print(f\"Study fire forested area: {study_fires.forested_ha.sum():,.0f} ha\")\n",
    "print(f\"Total forested area: {candidate_fires.forested_ha.sum():,.0f} ha\")\n",
    "print(f\"Total analysis area: {owner_trends.analysis_area.sum():,.0f} ha\")\n",
    "print(\n",
    "    \"Percent of burned forest sampled: \"\n",
    "    f\"{owner_trends.analysis_area.sum() / candidate_fires.forested_ha.sum():.2%}\"\n",
    ")\n",
    "print(\n",
    "    \"Percent of burned forest in study fires: \"\n",
    "    f\"{study_fires.forested_ha.sum() / candidate_fires.forested_ha.sum():.2%}\"\n",
    ")"
   ]
  },
  {
   "cell_type": "markdown",
   "metadata": {},
   "source": [
    "## Make Figures"
   ]
  },
  {
   "cell_type": "markdown",
   "metadata": {},
   "source": [
    "### Area Burned by Year\n",
    "\n",
    "Compare forested area burned for the study fires and the region."
   ]
  },
  {
   "cell_type": "code",
   "execution_count": null,
   "metadata": {},
   "outputs": [],
   "source": [
    "owner_group_analysis_area = owner_group_trends[\n",
    "    owner_group_trends.owner.ne(\"Other\")\n",
    "].melt(\n",
    "    id_vars=[\"year\", \"owner\"],\n",
    "    value_vars=[\"analysis_area\", \"cumulative_analysis_area\"],\n",
    "    var_name=\"area_type\",\n",
    "    value_name=\"area\",\n",
    ")"
   ]
  },
  {
   "cell_type": "code",
   "execution_count": null,
   "metadata": {},
   "outputs": [],
   "source": [
    "fig = px.line(\n",
    "    owner_group_analysis_area,\n",
    "    x=\"year\",\n",
    "    y=\"area\",\n",
    "    color=\"owner\",\n",
    "    color_discrete_sequence=[\"#33a02c\", \"#1f78b4\", \"#606060\"],\n",
    "    facet_row=\"area_type\",\n",
    "    markers=True,\n",
    "    template=\"plotly_white\",\n",
    "    width=600,\n",
    "    height=500,\n",
    "    line_shape=\"spline\",\n",
    "    facet_row_spacing=0.1,\n",
    ")\n",
    "\n",
    "# Make the \"all\" line dashed\n",
    "fig.data[4].line.dash = \"dot\"\n",
    "fig.data[5].line.dash = \"dot\"\n",
    "\n",
    "\n",
    "fig.add_bar(\n",
    "    x=candidate_fire_trends.year,\n",
    "    y=candidate_fire_trends.cumulative_forested_ha,\n",
    "    name=\"Total\",\n",
    "    marker_color=\"#d0d0d0\",\n",
    "    row=1,\n",
    "    col=1,\n",
    ")\n",
    "\n",
    "fig.add_bar(\n",
    "    x=candidate_fire_trends.year,\n",
    "    y=candidate_fire_trends.forested_ha,\n",
    "    name=\"Total\",\n",
    "    marker_color=\"#d0d0d0\",\n",
    "    row=2,\n",
    "    col=1,\n",
    ")\n",
    "\n",
    "fig.update_yaxes(title=None, matches=None)\n",
    "fig.update_xaxes(title=None, dtick=5, ticks=\"inside\")\n",
    "\n",
    "# Delete facet labels\n",
    "for i in fig.layout.annotations:\n",
    "    i.text = \"\"\n",
    "\n",
    "fig.update_layout(\n",
    "    showlegend=False,\n",
    "    margin=dict(l=0, r=0, t=0, b=0),\n",
    "    font=dict(size=20),\n",
    ")\n",
    "\n",
    "fig.write_image(\"../figures/area_burned_combined.png\", scale=3)"
   ]
  },
  {
   "cell_type": "markdown",
   "metadata": {},
   "source": [
    "### Area Harvested Trends\n",
    "\n",
    "Compare area harvested by ownership."
   ]
  },
  {
   "cell_type": "code",
   "execution_count": null,
   "metadata": {},
   "outputs": [],
   "source": [
    "owner_group_harvest_area = owner_group_trends[\n",
    "    owner_group_trends.owner.ne(\"Other\")\n",
    "].melt(\n",
    "    id_vars=[\"year\", \"owner\"],\n",
    "    value_vars=[\"harvest_area\", \"cumulative_harvest_area\"],\n",
    "    var_name=\"area_type\",\n",
    "    value_name=\"area\",\n",
    ")"
   ]
  },
  {
   "cell_type": "code",
   "execution_count": null,
   "metadata": {},
   "outputs": [],
   "source": [
    "fig = px.line(\n",
    "    owner_group_harvest_area,\n",
    "    x=\"year\",\n",
    "    y=\"area\",\n",
    "    color=\"owner\",\n",
    "    color_discrete_sequence=[\"#33a02c\", \"#1f78b4\", \"#606060\"],\n",
    "    facet_row=\"area_type\",\n",
    "    markers=True,\n",
    "    template=\"plotly_white\",\n",
    "    width=600,\n",
    "    height=400,\n",
    "    line_shape=\"spline\",\n",
    "    facet_row_spacing=0.1,\n",
    ")\n",
    "\n",
    "# Make the \"all\" line dashed\n",
    "fig.data[4].line.dash = \"dot\"\n",
    "fig.data[5].line.dash = \"dot\"\n",
    "\n",
    "fig.update_yaxes(title=None, matches=None)\n",
    "fig.update_xaxes(title=None, dtick=5, ticks=\"inside\", showgrid=False)\n",
    "\n",
    "# Delete facet labels\n",
    "for i in fig.layout.annotations:\n",
    "    i.text = \"\"\n",
    "\n",
    "fig.update_layout(\n",
    "    showlegend=False,\n",
    "    margin=dict(l=0, r=0, t=0, b=0),\n",
    "    font=dict(size=20),\n",
    ")\n",
    "\n",
    "fig.write_image(\"../figures/area_harvested_combined.png\", scale=3)"
   ]
  }
 ],
 "metadata": {
  "kernelspec": {
   "display_name": "pfh",
   "language": "python",
   "name": "python3"
  },
  "language_info": {
   "codemirror_mode": {
    "name": "ipython",
    "version": 3
   },
   "file_extension": ".py",
   "mimetype": "text/x-python",
   "name": "python",
   "nbconvert_exporter": "python",
   "pygments_lexer": "ipython3",
   "version": "3.10.12"
  }
 },
 "nbformat": 4,
 "nbformat_minor": 2
}
