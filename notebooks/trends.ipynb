{
 "cells": [
  {
   "attachments": {},
   "cell_type": "markdown",
   "metadata": {},
   "source": [
    "# Trends\n",
    "\n",
    "This notebook looks at rates and trends in post-fire harvests between years, ecoregions, \n",
    "ownerships, and severity levels."
   ]
  },
  {
   "cell_type": "code",
   "execution_count": null,
   "metadata": {},
   "outputs": [],
   "source": [
    "import pandas as pd\n",
    "\n",
    "from pfh.scripts.config import OWNER_GROUPS"
   ]
  },
  {
   "attachments": {},
   "cell_type": "markdown",
   "metadata": {},
   "source": [
    "## Data Prep\n",
    "\n",
    "Load the stratified harvest area results exported from Earth Engine and process into annual trends and summaries."
   ]
  },
  {
   "cell_type": "code",
   "execution_count": null,
   "metadata": {},
   "outputs": [],
   "source": [
    "df = pd.read_csv(\"../data/results/stratified_results.csv\").drop(\n",
    "    columns=[\"system:index\", \".geo\"]\n",
    ")\n",
    "\n",
    "# Remove unmanaged lands from analysis\n",
    "df = df[~df[\"owner\"].isin([\"wilderness\", \"nps\"])]\n",
    "\n",
    "# Assign owner groups\n",
    "df[\"owner_group\"] = df[\"owner\"].map(OWNER_GROUPS)\n",
    "\n",
    "# Assign severity categories\n",
    "df[\"severity\"] = pd.Categorical(\n",
    "    df[\"severity\"], categories=[\"Very low\", \"Low\", \"Moderate\", \"High\"], ordered=True\n",
    ")\n",
    "# Check for incorrect severity category names which will produce NAs\n",
    "assert not df.isna().any().any(), \"Check severity category names!\"\n",
    "\n",
    "# Collapse all timings to simplify future processing where having multiple timings\n",
    "# could lead to multi-counting areas.\n",
    "df_all_timings = (\n",
    "    df.groupby([\"event_id\", \"owner\", \"severity\"], observed=False)\n",
    "    .agg({\n",
    "        \"harvest_area\": \"sum\",\n",
    "        \"analysis_area\": \"first\",\n",
    "        \"year\": \"first\",\n",
    "        \"ecoregion\": \"first\",\n",
    "    })\n",
    "    .reset_index()\n",
    ")"
   ]
  },
  {
   "cell_type": "markdown",
   "metadata": {},
   "source": [
    "### Annual Trends"
   ]
  },
  {
   "cell_type": "markdown",
   "metadata": {},
   "source": [
    "Calculate annual trends by owner and severity class from the raw data."
   ]
  },
  {
   "cell_type": "code",
   "execution_count": null,
   "metadata": {},
   "outputs": [],
   "source": [
    "# Annual harvest trends by individual owner (e.g. USFS) and severity class\n",
    "owner_trends = (\n",
    "    df_all_timings.drop(columns=[\"event_id\", \"ecoregion\"])\n",
    "    .groupby([\"year\", \"owner\", \"severity\"], observed=False)\n",
    "    .agg(\"sum\")\n",
    "    .reset_index()\n",
    ")\n",
    "\n",
    "# Annual harvest trends by owner group (e.g. federal) and severity class\n",
    "owner_group_trends = (\n",
    "    owner_trends.assign(owner=lambda x: x[\"owner\"].map(OWNER_GROUPS))\n",
    "    .groupby([\"year\", \"owner\", \"severity\"], observed=False)\n",
    "    .agg(\"sum\")\n",
    "    .reset_index()\n",
    ")\n",
    "\n",
    "# Calculate trends for all owners\n",
    "all_owner_trends = (\n",
    "    owner_trends.groupby([\"year\", \"severity\"], observed=False)\n",
    "    .agg(\"sum\")\n",
    "    .reset_index()\n",
    "    .assign(owner=\"Total\")\n",
    ")\n",
    "\n",
    "# Append the \"All\" owner group to the owner group trends\n",
    "owner_group_trends = pd.concat([owner_group_trends, all_owner_trends])\n",
    "owner_group_trends[\"harvest_rate\"] = (\n",
    "    owner_group_trends[\"harvest_area\"] / owner_group_trends[\"analysis_area\"]\n",
    ").fillna(0)"
   ]
  },
  {
   "cell_type": "code",
   "execution_count": null,
   "metadata": {},
   "outputs": [],
   "source": [
    "owner_group_trends[\"cumulative_harvest_area\"] = owner_group_trends.groupby(\n",
    "    [\"owner\", \"severity\"], observed=False\n",
    ").harvest_area.cumsum()\n",
    "\n",
    "owner_group_trends"
   ]
  },
  {
   "cell_type": "markdown",
   "metadata": {},
   "source": [
    "Export annual trends by owner and severity class for time series analysis in R."
   ]
  },
  {
   "cell_type": "code",
   "execution_count": null,
   "metadata": {},
   "outputs": [],
   "source": [
    "owner_trends.to_csv(\"../data/results/owner_trends.csv\", index=False)\n",
    "owner_group_trends.to_csv(\"../data/results/owner_group_trends.csv\", index=False)"
   ]
  },
  {
   "cell_type": "markdown",
   "metadata": {},
   "source": [
    "## Results"
   ]
  },
  {
   "attachments": {},
   "cell_type": "markdown",
   "metadata": {},
   "source": [
    "### Harvest Timing\n",
    "\n",
    "Summarize timing of harvests overall and by ownerships."
   ]
  },
  {
   "cell_type": "code",
   "execution_count": null,
   "metadata": {},
   "outputs": [],
   "source": [
    "timing_df = (\n",
    "    df.drop(columns=[\"ecoregion\", \"year\"])\n",
    "    .groupby([\"timing\", \"owner_group\", \"severity\"], observed=False)\n",
    "    .agg(\"sum\")\n",
    "    .reset_index()\n",
    ")\n",
    "\n",
    "owner_timing_summary = (\n",
    "    timing_df.groupby([\"timing\", \"owner_group\"])\n",
    "    .agg({\"harvest_area\": \"sum\", \"analysis_area\": \"sum\"})\n",
    "    .reset_index()\n",
    ")\n",
    "total_salvage = (\n",
    "    owner_timing_summary.groupby([\"timing\"])\n",
    "    .agg({\"harvest_area\": \"sum\", \"analysis_area\": \"sum\"})\n",
    "    .reset_index()\n",
    "    .assign(owner_group=\"Total\")\n",
    ")\n",
    "owner_timing_summary = pd.concat(\n",
    "    [owner_timing_summary, total_salvage], axis=0, ignore_index=True\n",
    ").sort_values([\"owner_group\", \"timing\"])\n",
    "\n",
    "owner_timing_summary[\"percent_of_harvest\"] = (\n",
    "    owner_timing_summary.groupby(\"owner_group\")[\"harvest_area\"]\n",
    "    .apply(lambda x: x / x.sum())\n",
    "    .values\n",
    ")"
   ]
  },
  {
   "cell_type": "markdown",
   "metadata": {},
   "source": [
    "Print summary stats by owner."
   ]
  },
  {
   "cell_type": "code",
   "execution_count": null,
   "metadata": {},
   "outputs": [],
   "source": [
    "for owner in [\"Total\", \"Federal\", \"Private\"]:\n",
    "    owner_timing = owner_timing_summary[owner_timing_summary.owner_group.eq(owner)]\n",
    "    pct_in_y1 = owner_timing[owner_timing.timing.eq(1)].percent_of_harvest.values[0]\n",
    "    pct_after_y3 = 1 - owner_timing[owner_timing.timing.lt(4)].percent_of_harvest.sum()\n",
    "\n",
    "    print(f\"{owner}: {pct_in_y1:.0%} in year 1, {pct_after_y3:.0%} after year 3\")"
   ]
  },
  {
   "attachments": {},
   "cell_type": "markdown",
   "metadata": {},
   "source": [
    "### Total Area\n",
    "\n",
    "How much total harvest area was predicted?"
   ]
  },
  {
   "cell_type": "code",
   "execution_count": null,
   "metadata": {},
   "outputs": [],
   "source": [
    "harvest_ha = owner_trends.harvest_area.sum()\n",
    "analysis_ha = owner_trends.analysis_area.sum()\n",
    "overal_harvest_rate = harvest_ha / analysis_ha\n",
    "\n",
    "print(\n",
    "    f\"We mapped {harvest_ha / 1e3:.0f}k hectares of post-fire harvest across \"\n",
    "    f\"{analysis_ha / 1e6:.1f}M hectares of burned forest ({overal_harvest_rate:.1%}).\"\n",
    ")"
   ]
  },
  {
   "cell_type": "markdown",
   "metadata": {},
   "source": [
    "### Area Summary by Owner\n",
    "\n",
    "Summarize total area analyzed and harvests by owner and owner groups."
   ]
  },
  {
   "cell_type": "code",
   "execution_count": null,
   "metadata": {},
   "outputs": [],
   "source": [
    "owner_summary = (\n",
    "    owner_trends.groupby([\"owner\"])\n",
    "    .agg({\"harvest_area\": \"sum\", \"analysis_area\": \"sum\"})\n",
    "    .reset_index()\n",
    "    .assign(pct_of_total=lambda x: x[\"analysis_area\"] / x[\"analysis_area\"].sum())\n",
    "    .assign(harvest_rate=lambda x: x[\"harvest_area\"] / x[\"analysis_area\"])\n",
    ")\n",
    "\n",
    "owner_group_summary = (\n",
    "    owner_group_trends[owner_group_trends.owner.ne(\"Total\")]\n",
    "    .copy()\n",
    "    .groupby([\"owner\"])\n",
    "    .agg({\"harvest_area\": \"sum\", \"analysis_area\": \"sum\"})\n",
    "    .reset_index()\n",
    "    .assign(pct_of_total=lambda x: x[\"analysis_area\"] / x[\"analysis_area\"].sum())\n",
    "    .assign(harvest_rate=lambda x: x[\"harvest_area\"] / x[\"analysis_area\"])\n",
    ")"
   ]
  },
  {
   "cell_type": "code",
   "execution_count": null,
   "metadata": {},
   "outputs": [],
   "source": [
    "owner_summary"
   ]
  },
  {
   "cell_type": "code",
   "execution_count": null,
   "metadata": {},
   "outputs": [],
   "source": [
    "owner_group_summary"
   ]
  },
  {
   "cell_type": "code",
   "execution_count": null,
   "metadata": {},
   "outputs": [],
   "source": [
    "owner_group_summary.harvest_area.sum() / owner_group_summary.analysis_area.sum()"
   ]
  },
  {
   "cell_type": "markdown",
   "metadata": {},
   "source": [
    "### Area Trends by Ecoregion\n",
    "\n",
    "Calculate annual trends by ecoregion."
   ]
  },
  {
   "cell_type": "code",
   "execution_count": null,
   "metadata": {},
   "outputs": [],
   "source": [
    "ecoregion_trends = (\n",
    "    df_all_timings.assign(owner_group=df_all_timings.owner.map(OWNER_GROUPS))\n",
    "    .groupby([\"ecoregion\", \"owner_group\", \"year\"])\n",
    "    .agg({\"harvest_area\": \"sum\", \"analysis_area\": \"sum\"})\n",
    "    .reset_index()\n",
    ")\n",
    "\n",
    "ecoregion_trends.to_csv(\"../data/results/ecoregion_owner_trends.csv\", index=False)"
   ]
  },
  {
   "cell_type": "markdown",
   "metadata": {},
   "source": [
    "Summarize trends by ecoregion."
   ]
  },
  {
   "cell_type": "code",
   "execution_count": null,
   "metadata": {},
   "outputs": [],
   "source": [
    "ecoregion_summary = (\n",
    "    ecoregion_trends.groupby(\"ecoregion\")\n",
    "    .agg({\"harvest_area\": \"sum\", \"analysis_area\": \"sum\"})\n",
    "    .reset_index()\n",
    "    .assign(harvest_rate=lambda x: x[\"harvest_area\"] / x[\"analysis_area\"])\n",
    "    .assign(pct_of_analysis=lambda x: x[\"analysis_area\"] / x[\"analysis_area\"].sum())\n",
    ")\n",
    "\n",
    "ecoregion_summary"
   ]
  }
 ],
 "metadata": {
  "kernelspec": {
   "display_name": "pfh",
   "language": "python",
   "name": "python3"
  },
  "language_info": {
   "codemirror_mode": {
    "name": "ipython",
    "version": 3
   },
   "file_extension": ".py",
   "mimetype": "text/x-python",
   "name": "python",
   "nbconvert_exporter": "python",
   "pygments_lexer": "ipython3",
   "version": "3.10.12"
  },
  "orig_nbformat": 4
 },
 "nbformat": 4,
 "nbformat_minor": 2
}
