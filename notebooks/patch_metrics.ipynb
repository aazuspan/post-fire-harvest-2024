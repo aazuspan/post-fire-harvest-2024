{
 "cells": [
  {
   "cell_type": "markdown",
   "metadata": {},
   "source": [
    "# Patch Metrics\n",
    "\n",
    "This notebook processes the raw patch areas exported from Earth Engine into a CSV for use in the time series processing script."
   ]
  },
  {
   "cell_type": "code",
   "execution_count": null,
   "metadata": {},
   "outputs": [],
   "source": [
    "import pandas as pd\n",
    "\n",
    "from pfh.scripts.config import OWNER_CLASSES, OWNER_GROUPS"
   ]
  },
  {
   "cell_type": "code",
   "execution_count": null,
   "metadata": {},
   "outputs": [],
   "source": [
    "# Special class that was added for patch areas across ownerships, since they can't be\n",
    "# aggregated\n",
    "OWNER_CLASSES[\"all\"] = 99\n",
    "OWNER_CODES = {v: k for k, v in OWNER_CLASSES.items()}"
   ]
  },
  {
   "cell_type": "code",
   "execution_count": null,
   "metadata": {},
   "outputs": [],
   "source": [
    "patch_metrics = pd.read_csv(\"../data/results/patch_metrics.csv\")\n",
    "patch_metrics[\"owner\"] = patch_metrics.label.apply(lambda x: OWNER_CODES[x])\n",
    "patch_metrics[\"owner_group\"] = patch_metrics.owner.apply(lambda x: OWNER_GROUPS[x])\n",
    "\n",
    "patch_metrics = patch_metrics.drop(\n",
    "    columns=[\"system:index\", \".geo\", \"label\", \"event_id\", \"owner\"]\n",
    ")\n",
    "\n",
    "patch_trends = patch_metrics.groupby([\"year\", \"owner_group\"]).agg(\"mean\").reset_index()"
   ]
  },
  {
   "cell_type": "code",
   "execution_count": null,
   "metadata": {},
   "outputs": [],
   "source": [
    "# Format the trends so they match the previous output\n",
    "export_patch_trends = patch_trends[patch_trends.owner_group.ne(\"Other\")].rename(\n",
    "    columns={\"owner_group\": \"owner\"}\n",
    ")\n",
    "export_patch_trends[\"owner\"] = export_patch_trends.owner.apply(\n",
    "    lambda x: \"Total\" if x == \"All owners\" else x\n",
    ")"
   ]
  },
  {
   "cell_type": "code",
   "execution_count": null,
   "metadata": {},
   "outputs": [],
   "source": [
    "export_patch_trends.to_csv(\"../data/results/annual_mean_patch_area.csv\", index=False)"
   ]
  }
 ],
 "metadata": {
  "kernelspec": {
   "display_name": "pfh",
   "language": "python",
   "name": "python3"
  },
  "language_info": {
   "codemirror_mode": {
    "name": "ipython",
    "version": 3
   },
   "file_extension": ".py",
   "mimetype": "text/x-python",
   "name": "python",
   "nbconvert_exporter": "python",
   "pygments_lexer": "ipython3",
   "version": "3.10.12"
  },
  "orig_nbformat": 4
 },
 "nbformat": 4,
 "nbformat_minor": 2
}
